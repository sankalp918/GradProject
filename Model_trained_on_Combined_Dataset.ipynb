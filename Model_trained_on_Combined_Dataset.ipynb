{
 "cells": [
  {
   "metadata": {},
   "cell_type": "markdown",
   "source": [
    "# Training and Testing CNN Model for Stroke Detection\n",
    "\n",
    "Let's create a CNN model to classify brain CT scans into normal and stroke categories using the combined_dataset for training and Dataset for testing."
   ],
   "id": "a987dbb74c77565e"
  },
  {
   "metadata": {
    "ExecuteTime": {
     "end_time": "2025-05-26T22:17:57.637737Z",
     "start_time": "2025-05-26T22:17:45.828135Z"
    }
   },
   "cell_type": "code",
   "source": [
    "from tensorflow.keras import layers, models\n",
    "from tensorflow.keras.preprocessing.image import ImageDataGenerator"
   ],
   "id": "6076dc5ec03a08bf",
   "outputs": [],
   "execution_count": 1
  },
  {
   "metadata": {
    "ExecuteTime": {
     "end_time": "2025-05-26T22:17:58.578930Z",
     "start_time": "2025-05-26T22:17:57.893783Z"
    }
   },
   "cell_type": "code",
   "source": [
    "# Set up data generators\n",
    "train_datagen = ImageDataGenerator(\n",
    "    rescale=1. / 255,\n",
    "    validation_split=0.2\n",
    ")\n",
    "\n",
    "test_datagen = ImageDataGenerator(rescale=1. / 255)\n",
    "\n",
    "train_generator = train_datagen.flow_from_directory(\n",
    "    'combined_dataset',\n",
    "    target_size=(224, 224),\n",
    "    batch_size=16,\n",
    "    class_mode='binary',\n",
    "    subset='training'\n",
    ")\n",
    "\n",
    "validation_generator = train_datagen.flow_from_directory(\n",
    "    'combined_dataset',\n",
    "    target_size=(224, 224),\n",
    "    batch_size=32,\n",
    "    class_mode='binary',\n",
    "    subset='validation'\n",
    ")"
   ],
   "id": "3e6d07330737839",
   "outputs": [
    {
     "name": "stdout",
     "output_type": "stream",
     "text": [
      "Found 10004 images belonging to 2 classes.\n",
      "Found 2501 images belonging to 2 classes.\n"
     ]
    }
   ],
   "execution_count": 2
  },
  {
   "metadata": {
    "ExecuteTime": {
     "end_time": "2025-05-26T22:17:58.818687Z",
     "start_time": "2025-05-26T22:17:58.626047Z"
    }
   },
   "cell_type": "code",
   "source": [
    "# Create CNN model\n",
    "model = models.Sequential([\n",
    "    layers.Conv2D(32, 3, activation='relu', input_shape=(224, 224, 3)),\n",
    "    layers.MaxPooling2D(),\n",
    "    layers.Conv2D(64, 3, activation='relu'),\n",
    "    layers.MaxPooling2D(),\n",
    "    layers.Conv2D(64, 3, activation='relu'),\n",
    "    layers.MaxPooling2D(),\n",
    "    layers.Flatten(),\n",
    "    layers.Dense(64, activation='relu'),\n",
    "    layers.Dense(1, activation='sigmoid')\n",
    "])\n",
    "\n",
    "model.compile(\n",
    "    optimizer='adam',\n",
    "    loss='binary_crossentropy',\n",
    "    metrics=['accuracy']\n",
    ")"
   ],
   "id": "b1cda472cf70b852",
   "outputs": [
    {
     "name": "stderr",
     "output_type": "stream",
     "text": [
      "C:\\Users\\Sandy\\miniconda3\\envs\\workspace\\Lib\\site-packages\\keras\\src\\layers\\convolutional\\base_conv.py:107: UserWarning: Do not pass an `input_shape`/`input_dim` argument to a layer. When using Sequential models, prefer using an `Input(shape)` object as the first layer in the model instead.\n",
      "  super().__init__(activity_regularizer=activity_regularizer, **kwargs)\n"
     ]
    }
   ],
   "execution_count": 3
  },
  {
   "metadata": {
    "ExecuteTime": {
     "end_time": "2025-05-26T22:32:34.361354Z",
     "start_time": "2025-05-26T22:17:58.844069Z"
    }
   },
   "cell_type": "code",
   "source": [
    "# Train the model\n",
    "history = model.fit(\n",
    "    train_generator,\n",
    "    steps_per_epoch=train_generator.samples // train_generator.batch_size,\n",
    "    validation_data=validation_generator,\n",
    "    validation_steps=validation_generator.samples // validation_generator.batch_size,\n",
    "    epochs=15\n",
    ")"
   ],
   "id": "c27ec0d75e45f73b",
   "outputs": [
    {
     "name": "stderr",
     "output_type": "stream",
     "text": [
      "C:\\Users\\Sandy\\miniconda3\\envs\\workspace\\Lib\\site-packages\\keras\\src\\trainers\\data_adapters\\py_dataset_adapter.py:121: UserWarning: Your `PyDataset` class should call `super().__init__(**kwargs)` in its constructor. `**kwargs` can include `workers`, `use_multiprocessing`, `max_queue_size`. Do not pass these arguments to `fit()`, as they will be ignored.\n",
      "  self._warn_if_super_not_called()\n"
     ]
    },
    {
     "name": "stdout",
     "output_type": "stream",
     "text": [
      "Epoch 1/15\n",
      "\u001B[1m625/625\u001B[0m \u001B[32m━━━━━━━━━━━━━━━━━━━━\u001B[0m\u001B[37m\u001B[0m \u001B[1m128s\u001B[0m 202ms/step - accuracy: 0.6217 - loss: 0.6579 - val_accuracy: 0.6478 - val_loss: 0.6410\n",
      "Epoch 2/15\n",
      "\u001B[1m  1/625\u001B[0m \u001B[37m━━━━━━━━━━━━━━━━━━━━\u001B[0m \u001B[1m2:01\u001B[0m 194ms/step - accuracy: 0.6875 - loss: 0.5857"
     ]
    },
    {
     "name": "stderr",
     "output_type": "stream",
     "text": [
      "C:\\Users\\Sandy\\miniconda3\\envs\\workspace\\Lib\\site-packages\\keras\\src\\trainers\\epoch_iterator.py:107: UserWarning: Your input ran out of data; interrupting training. Make sure that your dataset or generator can generate at least `steps_per_epoch * epochs` batches. You may need to use the `.repeat()` function when building your dataset.\n",
      "  self._interrupted_warning()\n"
     ]
    },
    {
     "name": "stdout",
     "output_type": "stream",
     "text": [
      "\u001B[1m625/625\u001B[0m \u001B[32m━━━━━━━━━━━━━━━━━━━━\u001B[0m\u001B[37m\u001B[0m \u001B[1m7s\u001B[0m 11ms/step - accuracy: 0.6875 - loss: 0.5857 - val_accuracy: 0.6502 - val_loss: 0.6408\n",
      "Epoch 3/15\n",
      "\u001B[1m625/625\u001B[0m \u001B[32m━━━━━━━━━━━━━━━━━━━━\u001B[0m\u001B[37m\u001B[0m \u001B[1m112s\u001B[0m 179ms/step - accuracy: 0.7568 - loss: 0.4681 - val_accuracy: 0.8001 - val_loss: 0.4182\n",
      "Epoch 4/15\n",
      "\u001B[1m625/625\u001B[0m \u001B[32m━━━━━━━━━━━━━━━━━━━━\u001B[0m\u001B[37m\u001B[0m \u001B[1m6s\u001B[0m 10ms/step - accuracy: 0.7500 - loss: 0.4037 - val_accuracy: 0.7989 - val_loss: 0.4218\n",
      "Epoch 5/15\n",
      "\u001B[1m625/625\u001B[0m \u001B[32m━━━━━━━━━━━━━━━━━━━━\u001B[0m\u001B[37m\u001B[0m \u001B[1m97s\u001B[0m 156ms/step - accuracy: 0.9108 - loss: 0.2053 - val_accuracy: 0.9311 - val_loss: 0.1707\n",
      "Epoch 6/15\n",
      "\u001B[1m625/625\u001B[0m \u001B[32m━━━━━━━━━━━━━━━━━━━━\u001B[0m\u001B[37m\u001B[0m \u001B[1m6s\u001B[0m 10ms/step - accuracy: 0.9375 - loss: 0.1145 - val_accuracy: 0.9311 - val_loss: 0.1693\n",
      "Epoch 7/15\n",
      "\u001B[1m625/625\u001B[0m \u001B[32m━━━━━━━━━━━━━━━━━━━━\u001B[0m\u001B[37m\u001B[0m \u001B[1m109s\u001B[0m 174ms/step - accuracy: 0.9783 - loss: 0.0616 - val_accuracy: 0.9788 - val_loss: 0.0541\n",
      "Epoch 8/15\n",
      "\u001B[1m625/625\u001B[0m \u001B[32m━━━━━━━━━━━━━━━━━━━━\u001B[0m\u001B[37m\u001B[0m \u001B[1m6s\u001B[0m 10ms/step - accuracy: 1.0000 - loss: 0.0370 - val_accuracy: 0.9804 - val_loss: 0.0521\n",
      "Epoch 9/15\n",
      "\u001B[1m625/625\u001B[0m \u001B[32m━━━━━━━━━━━━━━━━━━━━\u001B[0m\u001B[37m\u001B[0m \u001B[1m94s\u001B[0m 151ms/step - accuracy: 0.9926 - loss: 0.0360 - val_accuracy: 0.9820 - val_loss: 0.0527\n",
      "Epoch 10/15\n",
      "\u001B[1m625/625\u001B[0m \u001B[32m━━━━━━━━━━━━━━━━━━━━\u001B[0m\u001B[37m\u001B[0m \u001B[1m7s\u001B[0m 10ms/step - accuracy: 1.0000 - loss: 0.0356 - val_accuracy: 0.9824 - val_loss: 0.0535\n",
      "Epoch 11/15\n",
      "\u001B[1m625/625\u001B[0m \u001B[32m━━━━━━━━━━━━━━━━━━━━\u001B[0m\u001B[37m\u001B[0m \u001B[1m96s\u001B[0m 154ms/step - accuracy: 0.9942 - loss: 0.0209 - val_accuracy: 0.9671 - val_loss: 0.1086\n",
      "Epoch 12/15\n",
      "\u001B[1m625/625\u001B[0m \u001B[32m━━━━━━━━━━━━━━━━━━━━\u001B[0m\u001B[37m\u001B[0m \u001B[1m6s\u001B[0m 10ms/step - accuracy: 1.0000 - loss: 1.2176e-04 - val_accuracy: 0.9667 - val_loss: 0.1121\n",
      "Epoch 13/15\n",
      "\u001B[1m625/625\u001B[0m \u001B[32m━━━━━━━━━━━━━━━━━━━━\u001B[0m\u001B[37m\u001B[0m \u001B[1m97s\u001B[0m 155ms/step - accuracy: 0.9972 - loss: 0.0129 - val_accuracy: 0.9868 - val_loss: 0.0342\n",
      "Epoch 14/15\n",
      "\u001B[1m625/625\u001B[0m \u001B[32m━━━━━━━━━━━━━━━━━━━━\u001B[0m\u001B[37m\u001B[0m \u001B[1m6s\u001B[0m 10ms/step - accuracy: 1.0000 - loss: 0.0030 - val_accuracy: 0.9864 - val_loss: 0.0352\n",
      "Epoch 15/15\n",
      "\u001B[1m625/625\u001B[0m \u001B[32m━━━━━━━━━━━━━━━━━━━━\u001B[0m\u001B[37m\u001B[0m \u001B[1m96s\u001B[0m 153ms/step - accuracy: 0.9968 - loss: 0.0085 - val_accuracy: 0.9864 - val_loss: 0.0332\n"
     ]
    }
   ],
   "execution_count": 4
  },
  {
   "metadata": {
    "ExecuteTime": {
     "end_time": "2025-05-26T22:32:34.708399Z",
     "start_time": "2025-05-26T22:32:34.626632Z"
    }
   },
   "cell_type": "code",
   "source": [
    "# Save the model\n",
    "model.save('stroke_detection_model_combined_dataset.h5')"
   ],
   "id": "33312e29410bb7e0",
   "outputs": [
    {
     "name": "stderr",
     "output_type": "stream",
     "text": [
      "WARNING:absl:You are saving your model as an HDF5 file via `model.save()` or `keras.saving.save_model(model)`. This file format is considered legacy. We recommend using instead the native Keras format, e.g. `model.save('my_model.keras')` or `keras.saving.save_model(model, 'my_model.keras')`. \n"
     ]
    }
   ],
   "execution_count": 5
  },
  {
   "metadata": {
    "ExecuteTime": {
     "end_time": "2025-05-26T22:32:44.468391Z",
     "start_time": "2025-05-26T22:32:34.764078Z"
    }
   },
   "cell_type": "code",
   "source": [
    "# Test the model on Dataset directory\n",
    "test_generator = test_datagen.flow_from_directory(\n",
    "    'Dataset',\n",
    "    target_size=(224, 224),\n",
    "    batch_size=32,\n",
    "    class_mode='binary',\n",
    "    shuffle=False\n",
    ")\n",
    "\n",
    "test_loss, test_accuracy = model.evaluate(test_generator)\n",
    "print(f'Test accuracy: {test_accuracy:.4f}')"
   ],
   "id": "e85337f52d001778",
   "outputs": [
    {
     "name": "stdout",
     "output_type": "stream",
     "text": [
      "Found 2501 images belonging to 2 classes.\n",
      "\u001B[1m79/79\u001B[0m \u001B[32m━━━━━━━━━━━━━━━━━━━━\u001B[0m\u001B[37m\u001B[0m \u001B[1m9s\u001B[0m 117ms/step - accuracy: 0.9992 - loss: 0.0040\n",
      "Test accuracy: 0.9928\n"
     ]
    }
   ],
   "execution_count": 6
  },
  {
   "metadata": {},
   "cell_type": "markdown",
   "source": [
    "The model has been trained on the combined_dataset and saved as 'stroke_detection_model.h5'. \n",
    "The test results on the Dataset directory are shown above.\n"
   ],
   "id": "ea3ec1943aaaad40"
  }
 ],
 "metadata": {
  "kernelspec": {
   "display_name": "Python 3",
   "language": "python",
   "name": "python3"
  },
  "language_info": {
   "codemirror_mode": {
    "name": "ipython",
    "version": 2
   },
   "file_extension": ".py",
   "mimetype": "text/x-python",
   "name": "python",
   "nbconvert_exporter": "python",
   "pygments_lexer": "ipython2",
   "version": "2.7.6"
  }
 },
 "nbformat": 4,
 "nbformat_minor": 5
}
